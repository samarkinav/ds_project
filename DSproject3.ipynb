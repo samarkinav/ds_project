{
  "nbformat": 4,
  "nbformat_minor": 0,
  "metadata": {
    "colab": {
      "name": "DSproject2.ipynb",
      "provenance": [],
      "collapsed_sections": [],
      "authorship_tag": "ABX9TyOvICCNiSwbQWHQpJysIyLg",
      "include_colab_link": true
    },
    "kernelspec": {
      "display_name": "Python 3",
      "name": "python3"
    },
    "language_info": {
      "name": "python"
    }
  },
  "cells": [
    {
      "cell_type": "markdown",
      "metadata": {
        "id": "view-in-github",
        "colab_type": "text"
      },
      "source": [
        "<a href=\"https://colab.research.google.com/github/samarkinav/ds_project/blob/main/DSproject3.ipynb\" target=\"_parent\"><img src=\"https://colab.research.google.com/assets/colab-badge.svg\" alt=\"Open In Colab\"/></a>"
      ]
    },
    {
      "cell_type": "code",
      "metadata": {
        "id": "87vmDqluKZz0",
        "colab": {
          "base_uri": "https://localhost:8080/"
        },
        "outputId": "4f874604-070c-4eb5-a5c2-1228f2af533b"
      },
      "source": [
        "!pip install pymorphy2\n",
        "!pip install natasha\n",
        "!pip install nltk"
      ],
      "execution_count": 1,
      "outputs": [
        {
          "output_type": "stream",
          "text": [
            "Collecting pymorphy2\n",
            "\u001b[?25l  Downloading https://files.pythonhosted.org/packages/07/57/b2ff2fae3376d4f3c697b9886b64a54b476e1a332c67eee9f88e7f1ae8c9/pymorphy2-0.9.1-py3-none-any.whl (55kB)\n",
            "\u001b[K     |████████████████████████████████| 61kB 4.7MB/s \n",
            "\u001b[?25hCollecting pymorphy2-dicts-ru<3.0,>=2.4\n",
            "\u001b[?25l  Downloading https://files.pythonhosted.org/packages/3a/79/bea0021eeb7eeefde22ef9e96badf174068a2dd20264b9a378f2be1cdd9e/pymorphy2_dicts_ru-2.4.417127.4579844-py2.py3-none-any.whl (8.2MB)\n",
            "\u001b[K     |████████████████████████████████| 8.2MB 6.1MB/s \n",
            "\u001b[?25hCollecting dawg-python>=0.7.1\n",
            "  Downloading https://files.pythonhosted.org/packages/6a/84/ff1ce2071d4c650ec85745766c0047ccc3b5036f1d03559fd46bb38b5eeb/DAWG_Python-0.7.2-py2.py3-none-any.whl\n",
            "Requirement already satisfied: docopt>=0.6 in /usr/local/lib/python3.7/dist-packages (from pymorphy2) (0.6.2)\n",
            "Installing collected packages: pymorphy2-dicts-ru, dawg-python, pymorphy2\n",
            "Successfully installed dawg-python-0.7.2 pymorphy2-0.9.1 pymorphy2-dicts-ru-2.4.417127.4579844\n",
            "Collecting natasha\n",
            "\u001b[?25l  Downloading https://files.pythonhosted.org/packages/51/8e/ab0745100be276750fb6b8858c6180a1756696572295a74eb5aea77f3bbd/natasha-1.4.0-py3-none-any.whl (34.4MB)\n",
            "\u001b[K     |████████████████████████████████| 34.4MB 123kB/s \n",
            "\u001b[?25hCollecting razdel>=0.5.0\n",
            "  Downloading https://files.pythonhosted.org/packages/15/2c/664223a3924aa6e70479f7d37220b3a658765b9cfe760b4af7ffdc50d38f/razdel-0.5.0-py3-none-any.whl\n",
            "Collecting navec>=0.9.0\n",
            "  Downloading https://files.pythonhosted.org/packages/bc/c1/771ec5565f0ce24874d7fd325b429f9caa80517a40d2e4ce5705120591f3/navec-0.10.0-py3-none-any.whl\n",
            "Collecting slovnet>=0.3.0\n",
            "\u001b[?25l  Downloading https://files.pythonhosted.org/packages/a9/3b/f1ef495be8990004959dd0510c95f688d1b07529f6a862bc56a405770b26/slovnet-0.5.0-py3-none-any.whl (49kB)\n",
            "\u001b[K     |████████████████████████████████| 51kB 7.1MB/s \n",
            "\u001b[?25hCollecting yargy>=0.14.0\n",
            "\u001b[?25l  Downloading https://files.pythonhosted.org/packages/d3/46/bc1a17200a55f4b0608f39ac64f1840fd4a52f9eeea462d9afecbf71246b/yargy-0.15.0-py3-none-any.whl (41kB)\n",
            "\u001b[K     |████████████████████████████████| 51kB 7.9MB/s \n",
            "\u001b[?25hRequirement already satisfied: pymorphy2 in /usr/local/lib/python3.7/dist-packages (from natasha) (0.9.1)\n",
            "Collecting ipymarkup>=0.8.0\n",
            "  Downloading https://files.pythonhosted.org/packages/bf/9b/bf54c98d50735a4a7c84c71e92c5361730c878ebfe903d2c2d196ef66055/ipymarkup-0.9.0-py3-none-any.whl\n",
            "Requirement already satisfied: numpy in /usr/local/lib/python3.7/dist-packages (from navec>=0.9.0->natasha) (1.19.5)\n",
            "Requirement already satisfied: dawg-python>=0.7.1 in /usr/local/lib/python3.7/dist-packages (from pymorphy2->natasha) (0.7.2)\n",
            "Requirement already satisfied: pymorphy2-dicts-ru<3.0,>=2.4 in /usr/local/lib/python3.7/dist-packages (from pymorphy2->natasha) (2.4.417127.4579844)\n",
            "Requirement already satisfied: docopt>=0.6 in /usr/local/lib/python3.7/dist-packages (from pymorphy2->natasha) (0.6.2)\n",
            "Collecting intervaltree>=3\n",
            "  Downloading https://files.pythonhosted.org/packages/50/fb/396d568039d21344639db96d940d40eb62befe704ef849b27949ded5c3bb/intervaltree-3.1.0.tar.gz\n",
            "Requirement already satisfied: sortedcontainers<3.0,>=2.0 in /usr/local/lib/python3.7/dist-packages (from intervaltree>=3->ipymarkup>=0.8.0->natasha) (2.3.0)\n",
            "Building wheels for collected packages: intervaltree\n",
            "  Building wheel for intervaltree (setup.py) ... \u001b[?25l\u001b[?25hdone\n",
            "  Created wheel for intervaltree: filename=intervaltree-3.1.0-py2.py3-none-any.whl size=26102 sha256=2a3e5885ab8c70230cfbdbd13ed34a8992fb1ad53b7382de66b06cbc076d1d9d\n",
            "  Stored in directory: /root/.cache/pip/wheels/f3/f2/66/e9c30d3e9499e65ea2fa0d07c002e64de63bd0adaa49c445bf\n",
            "Successfully built intervaltree\n",
            "Installing collected packages: razdel, navec, slovnet, yargy, intervaltree, ipymarkup, natasha\n",
            "  Found existing installation: intervaltree 2.1.0\n",
            "    Uninstalling intervaltree-2.1.0:\n",
            "      Successfully uninstalled intervaltree-2.1.0\n",
            "Successfully installed intervaltree-3.1.0 ipymarkup-0.9.0 natasha-1.4.0 navec-0.10.0 razdel-0.5.0 slovnet-0.5.0 yargy-0.15.0\n",
            "Requirement already satisfied: nltk in /usr/local/lib/python3.7/dist-packages (3.2.5)\n",
            "Requirement already satisfied: six in /usr/local/lib/python3.7/dist-packages (from nltk) (1.15.0)\n"
          ],
          "name": "stdout"
        }
      ]
    },
    {
      "cell_type": "code",
      "metadata": {
        "id": "C1e3gbYJKesN"
      },
      "source": [
        "import nltk\n",
        "import pymorphy2\n",
        "import pandas as pd\n",
        "import re\n",
        "import numpy as np\n",
        "import collections"
      ],
      "execution_count": 2,
      "outputs": []
    },
    {
      "cell_type": "code",
      "metadata": {
        "id": "O7SWX2ILMLuY",
        "colab": {
          "base_uri": "https://localhost:8080/"
        },
        "outputId": "c4c8743b-110a-44b2-8ac1-8d6edc021c89"
      },
      "source": [
        "!wget --no-check-certificate 'https://docs.google.com/uc?export=download&id=1d5NQuYPlkvj2IuHMJ2DFvQ_nXX4f70ZC' -O Mosru_dump_all_pages.txt"
      ],
      "execution_count": 3,
      "outputs": [
        {
          "output_type": "stream",
          "text": [
            "--2021-04-26 16:52:23--  https://docs.google.com/uc?export=download&id=1d5NQuYPlkvj2IuHMJ2DFvQ_nXX4f70ZC\n",
            "Resolving docs.google.com (docs.google.com)... 216.58.192.78, 2607:f8b0:4026:800::200e\n",
            "Connecting to docs.google.com (docs.google.com)|216.58.192.78|:443... connected.\n",
            "HTTP request sent, awaiting response... 302 Moved Temporarily\n",
            "Location: https://doc-10-ak-docs.googleusercontent.com/docs/securesc/ha0ro937gcuc7l7deffksulhg5h7mbp1/1654bgobmt7mhenthl2iiiriakefddmg/1619455875000/03619448018617981983/*/1d5NQuYPlkvj2IuHMJ2DFvQ_nXX4f70ZC?e=download [following]\n",
            "Warning: wildcards not supported in HTTP.\n",
            "--2021-04-26 16:52:25--  https://doc-10-ak-docs.googleusercontent.com/docs/securesc/ha0ro937gcuc7l7deffksulhg5h7mbp1/1654bgobmt7mhenthl2iiiriakefddmg/1619455875000/03619448018617981983/*/1d5NQuYPlkvj2IuHMJ2DFvQ_nXX4f70ZC?e=download\n",
            "Resolving doc-10-ak-docs.googleusercontent.com (doc-10-ak-docs.googleusercontent.com)... 172.217.3.1, 2607:f8b0:4026:800::2001\n",
            "Connecting to doc-10-ak-docs.googleusercontent.com (doc-10-ak-docs.googleusercontent.com)|172.217.3.1|:443... connected.\n",
            "HTTP request sent, awaiting response... 200 OK\n",
            "Length: unspecified [text/plain]\n",
            "Saving to: ‘Mosru_dump_all_pages.txt’\n",
            "\n",
            "Mosru_dump_all_page     [         <=>        ]  47.72M  23.7MB/s    in 2.0s    \n",
            "\n",
            "2021-04-26 16:52:28 (23.7 MB/s) - ‘Mosru_dump_all_pages.txt’ saved [50043028]\n",
            "\n"
          ],
          "name": "stdout"
        }
      ]
    },
    {
      "cell_type": "code",
      "metadata": {
        "id": "HbZ6onvaMOQP",
        "colab": {
          "base_uri": "https://localhost:8080/",
          "height": 289
        },
        "outputId": "8f2ed4c8-4ac6-4c8a-ff48-13fd22bb5f9d"
      },
      "source": [
        "df = pd.read_csv('Mosru_dump_all_pages.txt', engine='python', sep=\"', '\", names=['тема','текст','что-то','ответственный','дата'])\n",
        "df.head()"
      ],
      "execution_count": 4,
      "outputs": [
        {
          "output_type": "execute_result",
          "data": {
            "text/html": [
              "<div>\n",
              "<style scoped>\n",
              "    .dataframe tbody tr th:only-of-type {\n",
              "        vertical-align: middle;\n",
              "    }\n",
              "\n",
              "    .dataframe tbody tr th {\n",
              "        vertical-align: top;\n",
              "    }\n",
              "\n",
              "    .dataframe thead th {\n",
              "        text-align: right;\n",
              "    }\n",
              "</style>\n",
              "<table border=\"1\" class=\"dataframe\">\n",
              "  <thead>\n",
              "    <tr style=\"text-align: right;\">\n",
              "      <th></th>\n",
              "      <th>тема</th>\n",
              "      <th>текст</th>\n",
              "      <th>что-то</th>\n",
              "      <th>ответственный</th>\n",
              "      <th>дата</th>\n",
              "    </tr>\n",
              "  </thead>\n",
              "  <tbody>\n",
              "    <tr>\n",
              "      <th>0</th>\n",
              "      <td>'Сообщение о проблеме «Несоблюдение требований...</td>\n",
              "      <td>Выше второго этажа</td>\n",
              "      <td>**********</td>\n",
              "      <td>начальник Объединения административно-техниче...</td>\n",
              "      <td>16 Ноября 2020 в 16:31'</td>\n",
              "    </tr>\n",
              "    <tr>\n",
              "      <th>1</th>\n",
              "      <td>'Сообщение о проблеме «Неубранная городская те...</td>\n",
              "      <td>По адресу Снежная д24 расположена музыкальная ...</td>\n",
              "      <td>**********</td>\n",
              "      <td>глава управы района Свиблово города Москвы</td>\n",
              "      <td>05 Мая 2020 в 15:45'</td>\n",
              "    </tr>\n",
              "    <tr>\n",
              "      <th>2</th>\n",
              "      <td>'Сообщение о проблеме «Неубранная городская те...</td>\n",
              "      <td>После проведения работ на кабельной канализаци...</td>\n",
              "      <td>**********</td>\n",
              "      <td>начальник Объединения административно-техниче...</td>\n",
              "      <td>01 Марта 2020 в 16:57'</td>\n",
              "    </tr>\n",
              "    <tr>\n",
              "      <th>3</th>\n",
              "      <td>'Сообщение о проблеме «Неубранная городская те...</td>\n",
              "      <td>Очистите опору освещения. Приведите в надлежащ...</td>\n",
              "      <td>**********</td>\n",
              "      <td>глава управы района Свиблово города Москвы</td>\n",
              "      <td>16 Января 2020 в 13:54'</td>\n",
              "    </tr>\n",
              "    <tr>\n",
              "      <th>4</th>\n",
              "      <td>'Сообщение о проблеме «Захламление территории»...</td>\n",
              "      <td>Более двух недель лежит куча грунта в перемешк...</td>\n",
              "      <td>**************</td>\n",
              "      <td>и.о. главы управы района Свиблово города Москвы</td>\n",
              "      <td>24 Августа 2019 в 15:39'</td>\n",
              "    </tr>\n",
              "  </tbody>\n",
              "</table>\n",
              "</div>"
            ],
            "text/plain": [
              "                                                тема  ...                      дата\n",
              "0  'Сообщение о проблеме «Несоблюдение требований...  ...   16 Ноября 2020 в 16:31'\n",
              "1  'Сообщение о проблеме «Неубранная городская те...  ...      05 Мая 2020 в 15:45'\n",
              "2  'Сообщение о проблеме «Неубранная городская те...  ...    01 Марта 2020 в 16:57'\n",
              "3  'Сообщение о проблеме «Неубранная городская те...  ...   16 Января 2020 в 13:54'\n",
              "4  'Сообщение о проблеме «Захламление территории»...  ...  24 Августа 2019 в 15:39'\n",
              "\n",
              "[5 rows x 5 columns]"
            ]
          },
          "metadata": {
            "tags": []
          },
          "execution_count": 4
        }
      ]
    },
    {
      "cell_type": "code",
      "metadata": {
        "id": "ByLeEvUIM9Lk"
      },
      "source": [
        "del df['что-то']"
      ],
      "execution_count": 5,
      "outputs": []
    },
    {
      "cell_type": "code",
      "metadata": {
        "id": "XxVr-FvyTiGl",
        "colab": {
          "base_uri": "https://localhost:8080/"
        },
        "outputId": "e5665a2d-347f-4acc-92f4-55be51b6e70f"
      },
      "source": [
        "df.isna().sum()"
      ],
      "execution_count": 6,
      "outputs": [
        {
          "output_type": "execute_result",
          "data": {
            "text/plain": [
              "тема             0\n",
              "текст            0\n",
              "ответственный    0\n",
              "дата             0\n",
              "dtype: int64"
            ]
          },
          "metadata": {
            "tags": []
          },
          "execution_count": 6
        }
      ]
    },
    {
      "cell_type": "markdown",
      "metadata": {
        "id": "jBjCC5enNCqH"
      },
      "source": [
        "Мы хотим вытащить из последнего столбца даты. Сделаем это с помощью библиотеки Natasha. "
      ]
    },
    {
      "cell_type": "code",
      "metadata": {
        "id": "jQGs7Z9uNMKZ"
      },
      "source": [
        "from natasha import (\n",
        "    Segmenter,\n",
        "    MorphVocab,\n",
        "    \n",
        "    NewsEmbedding,\n",
        "    NewsMorphTagger,\n",
        "\n",
        "    DatesExtractor, \n",
        "\n",
        "    Doc)\n",
        "\n",
        "segmenter = Segmenter()\n",
        "morph_vocab = MorphVocab()\n",
        "\n",
        "emb = NewsEmbedding()\n",
        "morph_tagger = NewsMorphTagger(emb)\n",
        "\n",
        "dates_extractor = DatesExtractor(morph_vocab)"
      ],
      "execution_count": 7,
      "outputs": []
    },
    {
      "cell_type": "markdown",
      "metadata": {
        "id": "JxMjr6auNUAo"
      },
      "source": [
        "Функция обработки дат:\n",
        "\n"
      ]
    },
    {
      "cell_type": "code",
      "metadata": {
        "id": "VOoRGmwMNRON"
      },
      "source": [
        "def preparing_dates(string):\n",
        "    matches = dates_extractor(string)\n",
        "    facts = [_.fact.as_json for _ in matches]\n",
        "\n",
        "    for f in facts:\n",
        "        date = (f\"{f.get('day')}.{f.get('month')}.{f.get('year')}\")\n",
        "        year = (f\"{f.get('year')}\")\n",
        "    return [date, year]"
      ],
      "execution_count": 8,
      "outputs": []
    },
    {
      "cell_type": "markdown",
      "metadata": {
        "id": "zERQ3OfpNdSU"
      },
      "source": [
        "Обрабатывать адреса будем с помощью регулярных выражений. Используя их же, вычленим из первого столбца саму жалобу."
      ]
    },
    {
      "cell_type": "code",
      "metadata": {
        "id": "ZJtGi4s5NXsd"
      },
      "source": [
        "address_list = []\n",
        "appeal_list = []\n",
        "year_list = []\n",
        "for i in range(df.shape[0]):\n",
        "    [df.iloc[i, 3], year] = preparing_dates(df.iloc[i, 3])\n",
        "    year_list.append(year)\n",
        "\n",
        "    address_list.append(re.search('по адресу (.*)', df.iloc[i, 0]).group(1))\n",
        "    appeal_list.append(re.search('«(.*)»', df.iloc[i, 0], flags=re.IGNORECASE).group(1))\n",
        "\n",
        "df['адрес'] = address_list\n",
        "df['тема'] = appeal_list\n",
        "df['год']= year_list\n"
      ],
      "execution_count": 9,
      "outputs": []
    },
    {
      "cell_type": "code",
      "metadata": {
        "id": "0_GiR-u6N9t9",
        "colab": {
          "base_uri": "https://localhost:8080/",
          "height": 1000
        },
        "outputId": "dbf83fb4-cf61-4808-9f1c-7b43d461fe2c"
      },
      "source": [
        "df.head(20)"
      ],
      "execution_count": 10,
      "outputs": [
        {
          "output_type": "execute_result",
          "data": {
            "text/html": [
              "<div>\n",
              "<style scoped>\n",
              "    .dataframe tbody tr th:only-of-type {\n",
              "        vertical-align: middle;\n",
              "    }\n",
              "\n",
              "    .dataframe tbody tr th {\n",
              "        vertical-align: top;\n",
              "    }\n",
              "\n",
              "    .dataframe thead th {\n",
              "        text-align: right;\n",
              "    }\n",
              "</style>\n",
              "<table border=\"1\" class=\"dataframe\">\n",
              "  <thead>\n",
              "    <tr style=\"text-align: right;\">\n",
              "      <th></th>\n",
              "      <th>тема</th>\n",
              "      <th>текст</th>\n",
              "      <th>ответственный</th>\n",
              "      <th>дата</th>\n",
              "      <th>адрес</th>\n",
              "      <th>год</th>\n",
              "    </tr>\n",
              "  </thead>\n",
              "  <tbody>\n",
              "    <tr>\n",
              "      <th>0</th>\n",
              "      <td>Несоблюдение требований к размещению информаци...</td>\n",
              "      <td>Выше второго этажа</td>\n",
              "      <td>начальник Объединения административно-техниче...</td>\n",
              "      <td>16.11.2020</td>\n",
              "      <td>Снежная улица д.26</td>\n",
              "      <td>2020</td>\n",
              "    </tr>\n",
              "    <tr>\n",
              "      <th>1</th>\n",
              "      <td>Неубранная городская территория</td>\n",
              "      <td>По адресу Снежная д24 расположена музыкальная ...</td>\n",
              "      <td>глава управы района Свиблово города Москвы</td>\n",
              "      <td>5.5.2020</td>\n",
              "      <td>Снежная улица д.24Д</td>\n",
              "      <td>2020</td>\n",
              "    </tr>\n",
              "    <tr>\n",
              "      <th>2</th>\n",
              "      <td>Неубранная городская территория</td>\n",
              "      <td>После проведения работ на кабельной канализаци...</td>\n",
              "      <td>начальник Объединения административно-техниче...</td>\n",
              "      <td>1.3.2020</td>\n",
              "      <td>Снежная улица д.6</td>\n",
              "      <td>2020</td>\n",
              "    </tr>\n",
              "    <tr>\n",
              "      <th>3</th>\n",
              "      <td>Неубранная городская территория</td>\n",
              "      <td>Очистите опору освещения. Приведите в надлежащ...</td>\n",
              "      <td>глава управы района Свиблово города Москвы</td>\n",
              "      <td>16.1.2020</td>\n",
              "      <td>Снежная улица д.24Д</td>\n",
              "      <td>2020</td>\n",
              "    </tr>\n",
              "    <tr>\n",
              "      <th>4</th>\n",
              "      <td>Захламление территории</td>\n",
              "      <td>Более двух недель лежит куча грунта в перемешк...</td>\n",
              "      <td>и.о. главы управы района Свиблово города Москвы</td>\n",
              "      <td>24.8.2019</td>\n",
              "      <td>Снежная улица д.1А</td>\n",
              "      <td>2019</td>\n",
              "    </tr>\n",
              "    <tr>\n",
              "      <th>5</th>\n",
              "      <td>Захламление территории</td>\n",
              "      <td>Осколки бордюрного камня спрятаны за дерево, в...</td>\n",
              "      <td>глава управы района Свиблово города Москвы</td>\n",
              "      <td>5.5.2019</td>\n",
              "      <td>Снежная улица д.12 с.2</td>\n",
              "      <td>2019</td>\n",
              "    </tr>\n",
              "    <tr>\n",
              "      <th>6</th>\n",
              "      <td>Несоблюдение требований к размещению информаци...</td>\n",
              "      <td>Прошу рассмотреть законность размещения вывеск...</td>\n",
              "      <td>глава управы района Свиблово города Москвы</td>\n",
              "      <td>6.2.2019</td>\n",
              "      <td>Снежная улица д.26</td>\n",
              "      <td>2019</td>\n",
              "    </tr>\n",
              "    <tr>\n",
              "      <th>7</th>\n",
              "      <td>Несоблюдение требований к размещению информаци...</td>\n",
              "      <td>Просьба проверить законность размещения информ...</td>\n",
              "      <td>глава управы района Свиблово города Москвы</td>\n",
              "      <td>5.10.2018</td>\n",
              "      <td>Снежная улица д.26</td>\n",
              "      <td>2018</td>\n",
              "    </tr>\n",
              "    <tr>\n",
              "      <th>8</th>\n",
              "      <td>Несоблюдение требований к размещению информаци...</td>\n",
              "      <td>Здравствуйте! Прошу проверить законность устан...</td>\n",
              "      <td>глава управы района Свиблово города Москвы</td>\n",
              "      <td>22.3.2018</td>\n",
              "      <td>Снежная улица д.23</td>\n",
              "      <td>2018</td>\n",
              "    </tr>\n",
              "    <tr>\n",
              "      <th>9</th>\n",
              "      <td>Отсутствие информационного щита</td>\n",
              "      <td>Отсутствуют информационные щиты на всех подобн...</td>\n",
              "      <td>генеральный директор Государственного бюджетн...</td>\n",
              "      <td>5.9.2017</td>\n",
              "      <td>Снежная улица д.6</td>\n",
              "      <td>2017</td>\n",
              "    </tr>\n",
              "    <tr>\n",
              "      <th>10</th>\n",
              "      <td>Захламление территории</td>\n",
              "      <td>На газоне (вместо травы) около северного выход...</td>\n",
              "      <td>руководитель Департамента средств массовой ин...</td>\n",
              "      <td>29.4.2017</td>\n",
              "      <td>Снежная улица д.1А</td>\n",
              "      <td>2017</td>\n",
              "    </tr>\n",
              "    <tr>\n",
              "      <th>11</th>\n",
              "      <td>Захламление территории</td>\n",
              "      <td>Убрано только то, что попало на фото в исходно...</td>\n",
              "      <td>генеральный директор Государственного бюджетн...</td>\n",
              "      <td>14.5.2017</td>\n",
              "      <td>Снежная улица д.1А</td>\n",
              "      <td>2017</td>\n",
              "    </tr>\n",
              "    <tr>\n",
              "      <th>12</th>\n",
              "      <td>Незаконная установка рекламной конструкции</td>\n",
              "      <td>Прошу ликвидировать незаконно установленный ре...</td>\n",
              "      <td>руководитель Департамента средств массовой ин...</td>\n",
              "      <td>27.4.2017</td>\n",
              "      <td>Снежная улица д.23</td>\n",
              "      <td>2017</td>\n",
              "    </tr>\n",
              "    <tr>\n",
              "      <th>13</th>\n",
              "      <td>Незаконная установка рекламной конструкции</td>\n",
              "      <td>Незаконные рекламные конструкции. Просьба прин...</td>\n",
              "      <td>Глава управы района Свиблово</td>\n",
              "      <td>4.3.2017</td>\n",
              "      <td>Снежная улица д.26</td>\n",
              "      <td>2017</td>\n",
              "    </tr>\n",
              "    <tr>\n",
              "      <th>14</th>\n",
              "      <td>Захламление территории</td>\n",
              "      <td>Больше недели назад снесли павильон и до сих п...</td>\n",
              "      <td>Глава управы района Свиблово</td>\n",
              "      <td>28.11.2016</td>\n",
              "      <td>Снежная улица д.1А</td>\n",
              "      <td>2016</td>\n",
              "    </tr>\n",
              "    <tr>\n",
              "      <th>15</th>\n",
              "      <td>Захламление территории</td>\n",
              "      <td>Остатки строительного мусора вывезли не полнос...</td>\n",
              "      <td>Глава управы района Свиблово</td>\n",
              "      <td>7.12.2016</td>\n",
              "      <td>Снежная улица д.1А</td>\n",
              "      <td>2016</td>\n",
              "    </tr>\n",
              "    <tr>\n",
              "      <th>16</th>\n",
              "      <td>Захламление территории</td>\n",
              "      <td>Добрый день! У станции метро ботанический сад ...</td>\n",
              "      <td>Глава управы района Свиблово</td>\n",
              "      <td>28.10.2016</td>\n",
              "      <td>Снежная улица д.1А</td>\n",
              "      <td>2016</td>\n",
              "    </tr>\n",
              "    <tr>\n",
              "      <th>17</th>\n",
              "      <td>Незаконная установка рекламной конструкции</td>\n",
              "      <td>Здравствуйте.\\\\nВ районе дома 23 по улице Снеж...</td>\n",
              "      <td>Государственное казенное учреждение г. Москвы...</td>\n",
              "      <td>16.3.2015</td>\n",
              "      <td>Снежная улица д.23</td>\n",
              "      <td>2015</td>\n",
              "    </tr>\n",
              "    <tr>\n",
              "      <th>18</th>\n",
              "      <td>Незаконная установка рекламной конструкции</td>\n",
              "      <td>Здравствуйте.\\\\nНа заборе возле дома 23 по ули...</td>\n",
              "      <td>Государственное казенное учреждение г. Москвы...</td>\n",
              "      <td>1.2.2015</td>\n",
              "      <td>Снежная улица д.23</td>\n",
              "      <td>2015</td>\n",
              "    </tr>\n",
              "    <tr>\n",
              "      <th>19</th>\n",
              "      <td>Несанкционированные объявления, надписи и рису...</td>\n",
              "      <td>Рисунки, надписи на фасадах нежилых зданий</td>\n",
              "      <td>исполняющий обязанности главы управы района С...</td>\n",
              "      <td>19.1.2015</td>\n",
              "      <td>Снежная улица д.12 с.2</td>\n",
              "      <td>2015</td>\n",
              "    </tr>\n",
              "  </tbody>\n",
              "</table>\n",
              "</div>"
            ],
            "text/plain": [
              "                                                 тема  ...   год\n",
              "0   Несоблюдение требований к размещению информаци...  ...  2020\n",
              "1                     Неубранная городская территория  ...  2020\n",
              "2                     Неубранная городская территория  ...  2020\n",
              "3                     Неубранная городская территория  ...  2020\n",
              "4                              Захламление территории  ...  2019\n",
              "5                              Захламление территории  ...  2019\n",
              "6   Несоблюдение требований к размещению информаци...  ...  2019\n",
              "7   Несоблюдение требований к размещению информаци...  ...  2018\n",
              "8   Несоблюдение требований к размещению информаци...  ...  2018\n",
              "9                     Отсутствие информационного щита  ...  2017\n",
              "10                             Захламление территории  ...  2017\n",
              "11                             Захламление территории  ...  2017\n",
              "12         Незаконная установка рекламной конструкции  ...  2017\n",
              "13         Незаконная установка рекламной конструкции  ...  2017\n",
              "14                             Захламление территории  ...  2016\n",
              "15                             Захламление территории  ...  2016\n",
              "16                             Захламление территории  ...  2016\n",
              "17         Незаконная установка рекламной конструкции  ...  2015\n",
              "18         Незаконная установка рекламной конструкции  ...  2015\n",
              "19  Несанкционированные объявления, надписи и рису...  ...  2015\n",
              "\n",
              "[20 rows x 6 columns]"
            ]
          },
          "metadata": {
            "tags": []
          },
          "execution_count": 10
        }
      ]
    },
    {
      "cell_type": "markdown",
      "metadata": {
        "id": "7N4XIeh0PK5z"
      },
      "source": [
        "Мы хоти вытащить из 3 столбца название района, в котором зарегистрирована проблема. Для этого нам нужна функция приведения слова к нормальной форме:"
      ]
    },
    {
      "cell_type": "code",
      "metadata": {
        "id": "Vl9Kk4XdOCbp"
      },
      "source": [
        "test_df = df"
      ],
      "execution_count": 11,
      "outputs": []
    },
    {
      "cell_type": "code",
      "metadata": {
        "id": "_Kbgz80APxp1"
      },
      "source": [
        "def to_norm(x):\n",
        "  morph = pymorphy2.MorphAnalyzer()\n",
        "  p = morph.parse(x)[0]\n",
        "  return p.normal_form"
      ],
      "execution_count": 12,
      "outputs": []
    },
    {
      "cell_type": "code",
      "metadata": {
        "id": "W3TrfVr4O3y_"
      },
      "source": [
        "districts = []\n",
        "for i in range(test_df.shape[0]):\n",
        "  if re.search('управы (.*) района', test_df.iloc[i, 2]):\n",
        "    district = re.search('управы (.*) района', test_df.iloc[i, 2]).group(1)\n",
        "  elif re.search('района (.*) города', test_df.iloc[i, 2]):\n",
        "    district = (re.search('района (.*) города', test_df.iloc[i, 2]).group(1))\n",
        "  elif re.search('района (.*)', test_df.iloc[i, 2]):\n",
        "    district = (re.search('района (.*)', test_df.iloc[i, 2]).group(1))\n",
        "  else:\n",
        "    district = np.nan\n",
        "  try:\n",
        "    district = district.replace('»','')\n",
        "    district = district.replace('\"','')\n",
        "    district = district.strip()\n",
        "    district = to_norm(district)\n",
        "  except:\n",
        "    pass\n",
        "  districts.append(district)\n",
        "\n",
        "test_df['район'] = districts"
      ],
      "execution_count": null,
      "outputs": []
    },
    {
      "cell_type": "code",
      "metadata": {
        "id": "eGZMHyIiRKlj"
      },
      "source": [
        "test_df"
      ],
      "execution_count": null,
      "outputs": []
    },
    {
      "cell_type": "markdown",
      "metadata": {
        "id": "7bp2uL_qQbO6"
      },
      "source": [
        "Многие обращения не содержат названия районов. Попробуем создать некий \"словарь\" формата улица-район"
      ]
    },
    {
      "cell_type": "code",
      "metadata": {
        "id": "jZ1hcxXoPASC"
      },
      "source": [
        "df_street_district = pd.DataFrame(columns=['street','district'])\n",
        "\n",
        "streets = []\n",
        "new_districts = []\n",
        "\n",
        "for i in range(test_df.shape[0]):\n",
        "  try:\n",
        "    test_df.iloc[i, 6].isdigit()\n",
        "    streets.append(re.search('(.*) улица', test_df.iloc[i, 4], flags=re.IGNORECASE).group(1))\n",
        "    new_districts.append(test_df.iloc[i, 6])\n",
        "  except:\n",
        "    pass\n",
        "\n",
        "df_street_district['district'] = new_districts\n",
        "df_street_district['street'] = streets\n",
        "df_street_district.drop_duplicates(inplace=True, ignore_index=True)\n",
        "df_street_district"
      ],
      "execution_count": null,
      "outputs": []
    },
    {
      "cell_type": "markdown",
      "metadata": {
        "id": "gHxgKk5zRrD2"
      },
      "source": [
        "Заметим, что есть одинаковые названия улиц в разных районов. Попробуем заполнить пропуски районов, опираясь на этот словарь. Алгоритм такой: берем название улицы, ищем её в словаре, если найдено одно совпадение, то записываем в колонку \"район\" соответствующий район из словаря; если не найдено соответсвий или найдено больше одного - не записываем ничего"
      ]
    },
    {
      "cell_type": "code",
      "metadata": {
        "id": "iX6inCtYPGlC"
      },
      "source": [
        "for i in range(test_df.shape[0]):\n",
        "  for j in range(df_street_district.shape[0]):\n",
        "    try:\n",
        "      test_df.iloc[i, 6].isdigit()\n",
        "    except:\n",
        "      try:\n",
        "        street = re.search('(.*) улица', test_df.iloc[i, 4], flags=re.IGNORECASE).group(1)\n",
        "        if street == df_street_district.iloc[j, 0] and collections.Counter(df_street_district.iloc[:,0])[street] == 1:\n",
        "          test_df.iloc[i, 6] = df_street_district.iloc[j, 1]\n",
        "      except:\n",
        "        pass"
      ],
      "execution_count": null,
      "outputs": []
    },
    {
      "cell_type": "code",
      "metadata": {
        "id": "VlfbxhAtSfb_"
      },
      "source": [
        "test_df.head(200)"
      ],
      "execution_count": null,
      "outputs": []
    },
    {
      "cell_type": "code",
      "metadata": {
        "id": "HbQLO7lsGvHn"
      },
      "source": [
        ""
      ],
      "execution_count": null,
      "outputs": []
    },
    {
      "cell_type": "code",
      "metadata": {
        "id": "LThzQV4ni3x4"
      },
      "source": [
        "test_df['дата'] = pd.to_datetime(test_df['дата'])"
      ],
      "execution_count": null,
      "outputs": []
    },
    {
      "cell_type": "markdown",
      "metadata": {
        "id": "MQyTD7KcZKG0"
      },
      "source": [
        "Теперь воспользуемся скрытым размещением Дирихле для тематетического моделирования. Это удобный способ выявления тем, присутствующих в корпусе, а также проявляющихся в разных сочетаниях в каждом документе в корпусе."
      ]
    },
    {
      "cell_type": "code",
      "metadata": {
        "id": "l2mPsA1hSyUu"
      },
      "source": [
        "!pip install gensim\n",
        "!pip install pyLDAvis"
      ],
      "execution_count": null,
      "outputs": []
    },
    {
      "cell_type": "markdown",
      "metadata": {
        "id": "JpG2Y2S_bCII"
      },
      "source": [
        "Функция обработки текста включает в себя процесс стемминга (нахождение основы слова)"
      ]
    },
    {
      "cell_type": "code",
      "metadata": {
        "id": "XYFvKgbxZ4tM"
      },
      "source": [
        "nltk.download('stopwords')\n",
        "\n",
        "from nltk.corpus import stopwords\n",
        "import string\n",
        "from nltk.stem.snowball import SnowballStemmer\n",
        "\n",
        "russian_stopwords = stopwords.words('russian')\n",
        "regex = re.compile('[%s]' % re.escape(string.punctuation))\n",
        "stemmer = SnowballStemmer('russian')\n",
        "\n",
        "def preprocessing(text):\n",
        "  text = regex.sub('', text)\n",
        "  text = [token for token in text.split() if token not in russian_stopwords]\n",
        "  text = [stemmer.stem(token) for token in text]\n",
        "  text = [token for token in text if token]\n",
        "  return ' '.join(text)\n"
      ],
      "execution_count": null,
      "outputs": []
    },
    {
      "cell_type": "code",
      "metadata": {
        "id": "bq4H16p6a0r6"
      },
      "source": [
        "for i in range(test_df.shape[0]):\n",
        "  test_df['текст'] = test_df['текст'].apply(lambda x: preprocessing(x))"
      ],
      "execution_count": null,
      "outputs": []
    },
    {
      "cell_type": "markdown",
      "metadata": {
        "id": "jedyWnfCbv8F"
      },
      "source": [
        "Для улучшения выделения тематик, необходимо выделить коллокации (словосочетания, имеющие признаки синтаксически или семантически целостной единицы). Алгоритм выделения коллокаций реализован в библиотеки Gensim. Для его работы переведем наш корпус из коллекции документов, в коллекцию документов - токенов."
      ]
    },
    {
      "cell_type": "code",
      "metadata": {
        "id": "L1o4qOJDa5-1"
      },
      "source": [
        "text_clean = []\n",
        "for index, row in test_df.iterrows():\n",
        "  text_clean.append(row['текст'].split())\n",
        "\n",
        "from gensim.models import Phrases\n",
        "bigram = Phrases(text_clean)\n",
        "trigram = Phrases(bigram[text_clean])\n",
        "\n",
        "for idx in range(len(text_clean)):\n",
        "  for token in bigram[text_clean[idx]]:\n",
        "    if '_' in token:\n",
        "      text_clean[idx].append(token)\n",
        "  for token in trigram[text_clean[idx]]:\n",
        "    if '_' in token:\n",
        "      text_clean[idx].append(token)"
      ],
      "execution_count": null,
      "outputs": []
    },
    {
      "cell_type": "markdown",
      "metadata": {
        "id": "XrBkSMEXdSJa"
      },
      "source": [
        "Теперь в нашем корпусе есть устойчивые выражения, и они не будут рассмотрены как отдельные слова, тем самым повысилась устойчивость корпуса.\n",
        "Следующим шагом преобразуем наш корпус в словарь частот."
      ]
    },
    {
      "cell_type": "code",
      "metadata": {
        "id": "BiZ-b6lhdkoj"
      },
      "source": [
        "from gensim.corpora.dictionary import Dictionary\n",
        "\n",
        "dictionary = Dictionary(text_clean)\n",
        "dictionary.filter_extremes(no_below=10, no_above=0.1)\n",
        "corpus = [dictionary.doc2bow(doc) for doc in text_clean]\n",
        "print('Количество уникальных токенов: %d' % len(dictionary))\n",
        "print('Количество документов: %d' % len(corpus))"
      ],
      "execution_count": null,
      "outputs": []
    },
    {
      "cell_type": "markdown",
      "metadata": {
        "id": "3JPO1SFYegbq"
      },
      "source": [
        "Создание LDA модели:"
      ]
    },
    {
      "cell_type": "code",
      "metadata": {
        "id": "WTdTwg_2eodR"
      },
      "source": [
        "from gensim.models.ldamulticore import LdaMulticore\n",
        "model = LdaMulticore(corpus=corpus, id2word = dictionary, num_topics=4)\n",
        "model.show_topics()"
      ],
      "execution_count": null,
      "outputs": []
    },
    {
      "cell_type": "code",
      "metadata": {
        "id": "-Zrhc0lgfAJv"
      },
      "source": [
        "import pyLDAvis.gensim_models\n",
        "import gensim\n",
        "pyLDAvis.enable_notebook()\n",
        "data = pyLDAvis.gensim_models.prepare(model, corpus, dictionary)"
      ],
      "execution_count": null,
      "outputs": []
    },
    {
      "cell_type": "markdown",
      "metadata": {
        "id": "qNLZLKNA0NUq"
      },
      "source": [
        "Теперь подберем самый важный параметр - количество тем. Для этого нам понадобится такое понятие, как когерентность. Тема называется когерентной (или согласованной), если термины, наиболее частые в данной теме, неслучайно часто соместно встречаются рядом в документах коллекции. Для оценивания когерентности будем использовать поточечную взаимную информацию (pointwise mutual information, PMI)"
      ]
    },
    {
      "cell_type": "code",
      "metadata": {
        "id": "afN24p6-mtWe"
      },
      "source": [
        "from gensim.models.coherencemodel import CoherenceModel\n",
        "def compute_coherence_values(dictionary, corpus, texts, limit, start=2, step=3):\n",
        "  coherence_values = []\n",
        "  model_list = []\n",
        "  for num_topics in range(start, limit, step):\n",
        "    model = LdaMulticore(corpus=corpus, id2word=dictionary, num_topics=num_topics)\n",
        "    model_list.append(model)\n",
        "    coherencemodel = CoherenceModel(model=model, texts=texts, dictionary=dictionary, coherence='c_v')\n",
        "    coherence_values.append(coherencemodel.get_coherence())\n",
        "  return [model_list, coherence_values]\n",
        "\n",
        "\n",
        "model_list, coherence_values = compute_coherence_values(dictionary=dictionary, corpus=corpus, texts=text_clean, start=2, limit=40, step=2)"
      ],
      "execution_count": null,
      "outputs": []
    },
    {
      "cell_type": "markdown",
      "metadata": {
        "id": "VIBlbpMB3GsB"
      },
      "source": [
        "Для понимания согласованности визуализируем как количество тем влияют на согласованность, создадим график при помощи пакета Matplotlib"
      ]
    },
    {
      "cell_type": "code",
      "metadata": {
        "id": "tpuRdKWt2m60"
      },
      "source": [
        "import matplotlib.pyplot as plt\n",
        "limit=40; start=2; step=2;\n",
        "x = range(start, limit, step)\n",
        "plt.plot(x, coherence_values)\n",
        "plt.xlabel('Количество тем')\n",
        "plt.ylabel('Согласованность')\n",
        "plt.legend(('coherence_values'), loc='best')\n",
        "plt.show()"
      ],
      "execution_count": null,
      "outputs": []
    },
    {
      "cell_type": "code",
      "metadata": {
        "id": "ooh4AY913v4h"
      },
      "source": [
        ""
      ],
      "execution_count": null,
      "outputs": []
    }
  ]
}
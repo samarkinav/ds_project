{
  "nbformat": 4,
  "nbformat_minor": 0,
  "metadata": {
    "colab": {
      "name": "DSproject.ipynb",
      "provenance": [],
      "authorship_tag": "ABX9TyN02d6EjbUpKnLeQmqDcNDv",
      "include_colab_link": true
    },
    "kernelspec": {
      "name": "python3",
      "display_name": "Python 3"
    },
    "language_info": {
      "name": "python"
    }
  },
  "cells": [
    {
      "cell_type": "markdown",
      "metadata": {
        "id": "view-in-github",
        "colab_type": "text"
      },
      "source": [
        "<a href=\"https://colab.research.google.com/github/samarkinav/ds_project/blob/main/DSproject.ipynb\" target=\"_parent\"><img src=\"https://colab.research.google.com/assets/colab-badge.svg\" alt=\"Open In Colab\"/></a>"
      ]
    },
    {
      "cell_type": "code",
      "metadata": {
        "colab": {
          "base_uri": "https://localhost:8080/"
        },
        "id": "-69eSx0RKHrh",
        "outputId": "bc26a0d7-991e-42bb-a1b4-7b2975ff70e4"
      },
      "source": [
        "!pip install pymorphy2\n",
        "!pip install natasha"
      ],
      "execution_count": 2,
      "outputs": [
        {
          "output_type": "stream",
          "text": [
            "Collecting pymorphy2\n",
            "\u001b[?25l  Downloading https://files.pythonhosted.org/packages/07/57/b2ff2fae3376d4f3c697b9886b64a54b476e1a332c67eee9f88e7f1ae8c9/pymorphy2-0.9.1-py3-none-any.whl (55kB)\n",
            "\u001b[K     |████████████████████████████████| 61kB 3.1MB/s \n",
            "\u001b[?25hCollecting pymorphy2-dicts-ru<3.0,>=2.4\n",
            "\u001b[?25l  Downloading https://files.pythonhosted.org/packages/3a/79/bea0021eeb7eeefde22ef9e96badf174068a2dd20264b9a378f2be1cdd9e/pymorphy2_dicts_ru-2.4.417127.4579844-py2.py3-none-any.whl (8.2MB)\n",
            "\u001b[K     |████████████████████████████████| 8.2MB 6.8MB/s \n",
            "\u001b[?25hRequirement already satisfied: docopt>=0.6 in /usr/local/lib/python3.7/dist-packages (from pymorphy2) (0.6.2)\n",
            "Collecting dawg-python>=0.7.1\n",
            "  Downloading https://files.pythonhosted.org/packages/6a/84/ff1ce2071d4c650ec85745766c0047ccc3b5036f1d03559fd46bb38b5eeb/DAWG_Python-0.7.2-py2.py3-none-any.whl\n",
            "Installing collected packages: pymorphy2-dicts-ru, dawg-python, pymorphy2\n",
            "Successfully installed dawg-python-0.7.2 pymorphy2-0.9.1 pymorphy2-dicts-ru-2.4.417127.4579844\n"
          ],
          "name": "stdout"
        }
      ]
    },
    {
      "cell_type": "code",
      "metadata": {
        "id": "neUjohmqKL2j"
      },
      "source": [
        "import nltk\n",
        "import pymorphy2\n",
        "import pandas as pd"
      ],
      "execution_count": 3,
      "outputs": []
    },
    {
      "cell_type": "code",
      "metadata": {
        "colab": {
          "base_uri": "https://localhost:8080/"
        },
        "id": "Sk8HWRBjJ4Ox",
        "outputId": "0b9c74d6-6713-41cc-f04f-a4d4a983a7b4"
      },
      "source": [
        "!wget --no-check-certificate 'https://docs.google.com/uc?export=download&id=1d5NQuYPlkvj2IuHMJ2DFvQ_nXX4f70ZC' -O Mosru_dump_all_pages.txt"
      ],
      "execution_count": 4,
      "outputs": [
        {
          "output_type": "stream",
          "text": [
            "--2021-04-19 08:04:38--  https://docs.google.com/uc?export=download&id=1d5NQuYPlkvj2IuHMJ2DFvQ_nXX4f70ZC\n",
            "Resolving docs.google.com (docs.google.com)... 173.194.213.101, 173.194.213.138, 173.194.213.139, ...\n",
            "Connecting to docs.google.com (docs.google.com)|173.194.213.101|:443... connected.\n",
            "HTTP request sent, awaiting response... 302 Moved Temporarily\n",
            "Location: https://doc-10-ak-docs.googleusercontent.com/docs/securesc/ha0ro937gcuc7l7deffksulhg5h7mbp1/7sov580k7b7jfu3srsajqh1lojh4lrrq/1618819425000/03619448018617981983/*/1d5NQuYPlkvj2IuHMJ2DFvQ_nXX4f70ZC?e=download [following]\n",
            "Warning: wildcards not supported in HTTP.\n",
            "--2021-04-19 08:04:40--  https://doc-10-ak-docs.googleusercontent.com/docs/securesc/ha0ro937gcuc7l7deffksulhg5h7mbp1/7sov580k7b7jfu3srsajqh1lojh4lrrq/1618819425000/03619448018617981983/*/1d5NQuYPlkvj2IuHMJ2DFvQ_nXX4f70ZC?e=download\n",
            "Resolving doc-10-ak-docs.googleusercontent.com (doc-10-ak-docs.googleusercontent.com)... 172.217.193.132, 2607:f8b0:400c:c03::84\n",
            "Connecting to doc-10-ak-docs.googleusercontent.com (doc-10-ak-docs.googleusercontent.com)|172.217.193.132|:443... connected.\n",
            "HTTP request sent, awaiting response... 200 OK\n",
            "Length: unspecified [text/plain]\n",
            "Saving to: ‘Mosru_dump_all_pages.txt’\n",
            "\n",
            "Mosru_dump_all_page     [  <=>               ]  47.72M   125MB/s    in 0.4s    \n",
            "\n",
            "2021-04-19 08:04:40 (125 MB/s) - ‘Mosru_dump_all_pages.txt’ saved [50043028]\n",
            "\n"
          ],
          "name": "stdout"
        }
      ]
    },
    {
      "cell_type": "code",
      "metadata": {
        "colab": {
          "base_uri": "https://localhost:8080/",
          "height": 289
        },
        "id": "c61E-hLjJ6GS",
        "outputId": "7035f113-8518-4e04-e209-224b1f489abe"
      },
      "source": [
        "df = pd.read_csv('Mosru_dump_all_pages.txt', engine='python', sep=\"', '\", names=['тема','текст','отвественный','пост','дата'])\n",
        "df.head()"
      ],
      "execution_count": 5,
      "outputs": [
        {
          "output_type": "execute_result",
          "data": {
            "text/html": [
              "<div>\n",
              "<style scoped>\n",
              "    .dataframe tbody tr th:only-of-type {\n",
              "        vertical-align: middle;\n",
              "    }\n",
              "\n",
              "    .dataframe tbody tr th {\n",
              "        vertical-align: top;\n",
              "    }\n",
              "\n",
              "    .dataframe thead th {\n",
              "        text-align: right;\n",
              "    }\n",
              "</style>\n",
              "<table border=\"1\" class=\"dataframe\">\n",
              "  <thead>\n",
              "    <tr style=\"text-align: right;\">\n",
              "      <th></th>\n",
              "      <th>тема</th>\n",
              "      <th>текст</th>\n",
              "      <th>отвественный</th>\n",
              "      <th>пост</th>\n",
              "      <th>дата</th>\n",
              "    </tr>\n",
              "  </thead>\n",
              "  <tbody>\n",
              "    <tr>\n",
              "      <th>0</th>\n",
              "      <td>'Сообщение о проблеме «Несоблюдение требований...</td>\n",
              "      <td>Выше второго этажа</td>\n",
              "      <td>**********</td>\n",
              "      <td>начальник Объединения административно-техниче...</td>\n",
              "      <td>16 Ноября 2020 в 16:31'</td>\n",
              "    </tr>\n",
              "    <tr>\n",
              "      <th>1</th>\n",
              "      <td>'Сообщение о проблеме «Неубранная городская те...</td>\n",
              "      <td>По адресу Снежная д24 расположена музыкальная ...</td>\n",
              "      <td>**********</td>\n",
              "      <td>глава управы района Свиблово города Москвы</td>\n",
              "      <td>05 Мая 2020 в 15:45'</td>\n",
              "    </tr>\n",
              "    <tr>\n",
              "      <th>2</th>\n",
              "      <td>'Сообщение о проблеме «Неубранная городская те...</td>\n",
              "      <td>После проведения работ на кабельной канализаци...</td>\n",
              "      <td>**********</td>\n",
              "      <td>начальник Объединения административно-техниче...</td>\n",
              "      <td>01 Марта 2020 в 16:57'</td>\n",
              "    </tr>\n",
              "    <tr>\n",
              "      <th>3</th>\n",
              "      <td>'Сообщение о проблеме «Неубранная городская те...</td>\n",
              "      <td>Очистите опору освещения. Приведите в надлежащ...</td>\n",
              "      <td>**********</td>\n",
              "      <td>глава управы района Свиблово города Москвы</td>\n",
              "      <td>16 Января 2020 в 13:54'</td>\n",
              "    </tr>\n",
              "    <tr>\n",
              "      <th>4</th>\n",
              "      <td>'Сообщение о проблеме «Захламление территории»...</td>\n",
              "      <td>Более двух недель лежит куча грунта в перемешк...</td>\n",
              "      <td>**************</td>\n",
              "      <td>и.о. главы управы района Свиблово города Москвы</td>\n",
              "      <td>24 Августа 2019 в 15:39'</td>\n",
              "    </tr>\n",
              "  </tbody>\n",
              "</table>\n",
              "</div>"
            ],
            "text/plain": [
              "                                                тема  ...                      дата\n",
              "0  'Сообщение о проблеме «Несоблюдение требований...  ...   16 Ноября 2020 в 16:31'\n",
              "1  'Сообщение о проблеме «Неубранная городская те...  ...      05 Мая 2020 в 15:45'\n",
              "2  'Сообщение о проблеме «Неубранная городская те...  ...    01 Марта 2020 в 16:57'\n",
              "3  'Сообщение о проблеме «Неубранная городская те...  ...   16 Января 2020 в 13:54'\n",
              "4  'Сообщение о проблеме «Захламление территории»...  ...  24 Августа 2019 в 15:39'\n",
              "\n",
              "[5 rows x 5 columns]"
            ]
          },
          "metadata": {
            "tags": []
          },
          "execution_count": 5
        }
      ]
    },
    {
      "cell_type": "markdown",
      "metadata": {
        "id": "Q8Q5-_aeQ1mC"
      },
      "source": [
        "Обрабатывать даты будем с помощью библиотеки Natasha"
      ]
    },
    {
      "cell_type": "code",
      "metadata": {
        "id": "OyNf7_YTKR23"
      },
      "source": [
        "from natasha import (\n",
        "    Segmenter,\n",
        "    MorphVocab,\n",
        "    \n",
        "    NewsEmbedding,\n",
        "    NewsMorphTagger,\n",
        "    NewsSyntaxParser,\n",
        "    NewsNERTagger,\n",
        "    \n",
        "    PER,\n",
        "    LOC,\n",
        "    NamesExtractor,\n",
        "    DatesExtractor, \n",
        "    MoneyExtractor, \n",
        "    AddrExtractor,\n",
        "\n",
        "    Doc)\n",
        "\n",
        "segmenter = Segmenter()\n",
        "morph_vocab = MorphVocab()\n",
        "\n",
        "# emb = NewsEmbedding()\n",
        "# morph_tagger = NewsMorphTagger(emb)\n",
        "# syntax_parser = NewsSyntaxParser(emb)\n",
        "# ner_tagger = NewsNERTagger(emb)\n",
        "\n",
        "dates_extractor = DatesExtractor(morph_vocab)"
      ],
      "execution_count": 8,
      "outputs": []
    },
    {
      "cell_type": "code",
      "metadata": {
        "id": "DhtWok66QeI-"
      },
      "source": [
        "def preparing_dates(string):\n",
        "    matches = dates_extractor(string)\n",
        "    facts = [_.fact.as_json for _ in matches]\n",
        "\n",
        "    for f in facts:\n",
        "        date = (f\"{f.get('day')}.{f.get('month')}.{f.get('year')}\")\n",
        "    return date\n"
      ],
      "execution_count": null,
      "outputs": []
    },
    {
      "cell_type": "code",
      "metadata": {
        "id": "1b6mhXZxKjtQ"
      },
      "source": [
        "dff = df.head(20)\n",
        "test_df = dff.copy()"
      ],
      "execution_count": 56,
      "outputs": []
    },
    {
      "cell_type": "markdown",
      "metadata": {
        "id": "W_jJ_k41LUj4"
      },
      "source": [
        "Обработка даты"
      ]
    },
    {
      "cell_type": "code",
      "metadata": {
        "id": "9HDMUWXmKrEs"
      },
      "source": [
        "for i in range(test_df.shape[0]):\n",
        "    matches = dates_extractor(test_df.iloc[i, 4])\n",
        "    facts = [_.fact.as_json for _ in matches]\n",
        "    \n",
        "    for f in facts:\n",
        "        test_df.iloc[i, 4]=(f\"{f.get('day')}.{f.get('month')}.{f.get('year')}\")"
      ],
      "execution_count": 19,
      "outputs": []
    },
    {
      "cell_type": "markdown",
      "metadata": {
        "id": "qdt4gDhgLXew"
      },
      "source": [
        "Обработка адреса"
      ]
    },
    {
      "cell_type": "code",
      "metadata": {
        "id": "FMEP26UCLZHd"
      },
      "source": [
        "import re\n",
        "address_list = []\n",
        "solution_list = []\n",
        "for i in range(test_df.shape[0]):\n",
        "    matches = dates_extractor(test_df.iloc[i, 4])\n",
        "    facts = [_.fact.as_json for _ in matches]\n",
        "    \n",
        "    for f in facts:\n",
        "        test_df.iloc[i, 4]=(f\"{f.get('day')}.{f.get('month')}.{f.get('year')}\")\n",
        "        \n",
        "    address_list.append(re.search('по адресу (.*)', test_df.iloc[i, 0]).group(1))\n",
        "    solution_list.append(re.search('«(.*)»', test_df.iloc[i, 0], flags=re.IGNORECASE).group(1))\n",
        "test_df['адрес']=address_list\n",
        "test_df['жалоба']=solution_list\n",
        "del test_df['тема']\n",
        "\n",
        "\n"
      ],
      "execution_count": 57,
      "outputs": []
    },
    {
      "cell_type": "code",
      "metadata": {
        "colab": {
          "base_uri": "https://localhost:8080/",
          "height": 1000
        },
        "id": "KrBfW6CTKsKP",
        "outputId": "c1be5e88-0531-44eb-8d4e-ad8ce71f746b"
      },
      "source": [
        "test_df"
      ],
      "execution_count": 58,
      "outputs": [
        {
          "output_type": "execute_result",
          "data": {
            "text/html": [
              "<div>\n",
              "<style scoped>\n",
              "    .dataframe tbody tr th:only-of-type {\n",
              "        vertical-align: middle;\n",
              "    }\n",
              "\n",
              "    .dataframe tbody tr th {\n",
              "        vertical-align: top;\n",
              "    }\n",
              "\n",
              "    .dataframe thead th {\n",
              "        text-align: right;\n",
              "    }\n",
              "</style>\n",
              "<table border=\"1\" class=\"dataframe\">\n",
              "  <thead>\n",
              "    <tr style=\"text-align: right;\">\n",
              "      <th></th>\n",
              "      <th>текст</th>\n",
              "      <th>отвественный</th>\n",
              "      <th>пост</th>\n",
              "      <th>дата</th>\n",
              "      <th>адрес</th>\n",
              "      <th>жалоба</th>\n",
              "    </tr>\n",
              "  </thead>\n",
              "  <tbody>\n",
              "    <tr>\n",
              "      <th>0</th>\n",
              "      <td>Выше второго этажа</td>\n",
              "      <td>**********</td>\n",
              "      <td>начальник Объединения административно-техниче...</td>\n",
              "      <td>16.11.2020</td>\n",
              "      <td>Снежная улица д.26</td>\n",
              "      <td>Несоблюдение требований к размещению информаци...</td>\n",
              "    </tr>\n",
              "    <tr>\n",
              "      <th>1</th>\n",
              "      <td>По адресу Снежная д24 расположена музыкальная ...</td>\n",
              "      <td>**********</td>\n",
              "      <td>глава управы района Свиблово города Москвы</td>\n",
              "      <td>5.5.2020</td>\n",
              "      <td>Снежная улица д.24Д</td>\n",
              "      <td>Неубранная городская территория</td>\n",
              "    </tr>\n",
              "    <tr>\n",
              "      <th>2</th>\n",
              "      <td>После проведения работ на кабельной канализаци...</td>\n",
              "      <td>**********</td>\n",
              "      <td>начальник Объединения административно-техниче...</td>\n",
              "      <td>1.3.2020</td>\n",
              "      <td>Снежная улица д.6</td>\n",
              "      <td>Неубранная городская территория</td>\n",
              "    </tr>\n",
              "    <tr>\n",
              "      <th>3</th>\n",
              "      <td>Очистите опору освещения. Приведите в надлежащ...</td>\n",
              "      <td>**********</td>\n",
              "      <td>глава управы района Свиблово города Москвы</td>\n",
              "      <td>16.1.2020</td>\n",
              "      <td>Снежная улица д.24Д</td>\n",
              "      <td>Неубранная городская территория</td>\n",
              "    </tr>\n",
              "    <tr>\n",
              "      <th>4</th>\n",
              "      <td>Более двух недель лежит куча грунта в перемешк...</td>\n",
              "      <td>**************</td>\n",
              "      <td>и.о. главы управы района Свиблово города Москвы</td>\n",
              "      <td>24.8.2019</td>\n",
              "      <td>Снежная улица д.1А</td>\n",
              "      <td>Захламление территории</td>\n",
              "    </tr>\n",
              "    <tr>\n",
              "      <th>5</th>\n",
              "      <td>Осколки бордюрного камня спрятаны за дерево, в...</td>\n",
              "      <td>************</td>\n",
              "      <td>глава управы района Свиблово города Москвы</td>\n",
              "      <td>5.5.2019</td>\n",
              "      <td>Снежная улица д.12 с.2</td>\n",
              "      <td>Захламление территории</td>\n",
              "    </tr>\n",
              "    <tr>\n",
              "      <th>6</th>\n",
              "      <td>Прошу рассмотреть законность размещения вывеск...</td>\n",
              "      <td>************</td>\n",
              "      <td>глава управы района Свиблово города Москвы</td>\n",
              "      <td>6.2.2019</td>\n",
              "      <td>Снежная улица д.26</td>\n",
              "      <td>Несоблюдение требований к размещению информаци...</td>\n",
              "    </tr>\n",
              "    <tr>\n",
              "      <th>7</th>\n",
              "      <td>Просьба проверить законность размещения информ...</td>\n",
              "      <td>************</td>\n",
              "      <td>глава управы района Свиблово города Москвы</td>\n",
              "      <td>5.10.2018</td>\n",
              "      <td>Снежная улица д.26</td>\n",
              "      <td>Несоблюдение требований к размещению информаци...</td>\n",
              "    </tr>\n",
              "    <tr>\n",
              "      <th>8</th>\n",
              "      <td>Здравствуйте! Прошу проверить законность устан...</td>\n",
              "      <td>************</td>\n",
              "      <td>глава управы района Свиблово города Москвы</td>\n",
              "      <td>22.3.2018</td>\n",
              "      <td>Снежная улица д.23</td>\n",
              "      <td>Несоблюдение требований к размещению информаци...</td>\n",
              "    </tr>\n",
              "    <tr>\n",
              "      <th>9</th>\n",
              "      <td>Отсутствуют информационные щиты на всех подобн...</td>\n",
              "      <td>************</td>\n",
              "      <td>генеральный директор Государственного бюджетн...</td>\n",
              "      <td>5.9.2017</td>\n",
              "      <td>Снежная улица д.6</td>\n",
              "      <td>Отсутствие информационного щита</td>\n",
              "    </tr>\n",
              "    <tr>\n",
              "      <th>10</th>\n",
              "      <td>На газоне (вместо травы) около северного выход...</td>\n",
              "      <td>**********</td>\n",
              "      <td>руководитель Департамента средств массовой ин...</td>\n",
              "      <td>29.4.2017</td>\n",
              "      <td>Снежная улица д.1А</td>\n",
              "      <td>Захламление территории</td>\n",
              "    </tr>\n",
              "    <tr>\n",
              "      <th>11</th>\n",
              "      <td>Убрано только то, что попало на фото в исходно...</td>\n",
              "      <td>************</td>\n",
              "      <td>генеральный директор Государственного бюджетн...</td>\n",
              "      <td>14.5.2017</td>\n",
              "      <td>Снежная улица д.1А</td>\n",
              "      <td>Захламление территории</td>\n",
              "    </tr>\n",
              "    <tr>\n",
              "      <th>12</th>\n",
              "      <td>Прошу ликвидировать незаконно установленный ре...</td>\n",
              "      <td>**********</td>\n",
              "      <td>руководитель Департамента средств массовой ин...</td>\n",
              "      <td>27.4.2017</td>\n",
              "      <td>Снежная улица д.23</td>\n",
              "      <td>Незаконная установка рекламной конструкции</td>\n",
              "    </tr>\n",
              "    <tr>\n",
              "      <th>13</th>\n",
              "      <td>Незаконные рекламные конструкции. Просьба прин...</td>\n",
              "      <td>************</td>\n",
              "      <td>Глава управы района Свиблово</td>\n",
              "      <td>4.3.2017</td>\n",
              "      <td>Снежная улица д.26</td>\n",
              "      <td>Незаконная установка рекламной конструкции</td>\n",
              "    </tr>\n",
              "    <tr>\n",
              "      <th>14</th>\n",
              "      <td>Больше недели назад снесли павильон и до сих п...</td>\n",
              "      <td>************</td>\n",
              "      <td>Глава управы района Свиблово</td>\n",
              "      <td>28.11.2016</td>\n",
              "      <td>Снежная улица д.1А</td>\n",
              "      <td>Захламление территории</td>\n",
              "    </tr>\n",
              "    <tr>\n",
              "      <th>15</th>\n",
              "      <td>Остатки строительного мусора вывезли не полнос...</td>\n",
              "      <td>************</td>\n",
              "      <td>Глава управы района Свиблово</td>\n",
              "      <td>7.12.2016</td>\n",
              "      <td>Снежная улица д.1А</td>\n",
              "      <td>Захламление территории</td>\n",
              "    </tr>\n",
              "    <tr>\n",
              "      <th>16</th>\n",
              "      <td>Добрый день! У станции метро ботанический сад ...</td>\n",
              "      <td>************</td>\n",
              "      <td>Глава управы района Свиблово</td>\n",
              "      <td>28.10.2016</td>\n",
              "      <td>Снежная улица д.1А</td>\n",
              "      <td>Захламление территории</td>\n",
              "    </tr>\n",
              "    <tr>\n",
              "      <th>17</th>\n",
              "      <td>Здравствуйте.\\\\nВ районе дома 23 по улице Снеж...</td>\n",
              "      <td>*************</td>\n",
              "      <td>Государственное казенное учреждение г. Москвы...</td>\n",
              "      <td>16.3.2015</td>\n",
              "      <td>Снежная улица д.23</td>\n",
              "      <td>Незаконная установка рекламной конструкции</td>\n",
              "    </tr>\n",
              "    <tr>\n",
              "      <th>18</th>\n",
              "      <td>Здравствуйте.\\\\nНа заборе возле дома 23 по ули...</td>\n",
              "      <td>*************</td>\n",
              "      <td>Государственное казенное учреждение г. Москвы...</td>\n",
              "      <td>1.2.2015</td>\n",
              "      <td>Снежная улица д.23</td>\n",
              "      <td>Незаконная установка рекламной конструкции</td>\n",
              "    </tr>\n",
              "    <tr>\n",
              "      <th>19</th>\n",
              "      <td>Рисунки, надписи на фасадах нежилых зданий</td>\n",
              "      <td>************</td>\n",
              "      <td>исполняющий обязанности главы управы района С...</td>\n",
              "      <td>19.1.2015</td>\n",
              "      <td>Снежная улица д.12 с.2</td>\n",
              "      <td>Несанкционированные объявления, надписи и рису...</td>\n",
              "    </tr>\n",
              "  </tbody>\n",
              "</table>\n",
              "</div>"
            ],
            "text/plain": [
              "                                                текст  ...                                             жалоба\n",
              "0                                  Выше второго этажа  ...  Несоблюдение требований к размещению информаци...\n",
              "1   По адресу Снежная д24 расположена музыкальная ...  ...                    Неубранная городская территория\n",
              "2   После проведения работ на кабельной канализаци...  ...                    Неубранная городская территория\n",
              "3   Очистите опору освещения. Приведите в надлежащ...  ...                    Неубранная городская территория\n",
              "4   Более двух недель лежит куча грунта в перемешк...  ...                             Захламление территории\n",
              "5   Осколки бордюрного камня спрятаны за дерево, в...  ...                             Захламление территории\n",
              "6   Прошу рассмотреть законность размещения вывеск...  ...  Несоблюдение требований к размещению информаци...\n",
              "7   Просьба проверить законность размещения информ...  ...  Несоблюдение требований к размещению информаци...\n",
              "8   Здравствуйте! Прошу проверить законность устан...  ...  Несоблюдение требований к размещению информаци...\n",
              "9   Отсутствуют информационные щиты на всех подобн...  ...                    Отсутствие информационного щита\n",
              "10  На газоне (вместо травы) около северного выход...  ...                             Захламление территории\n",
              "11  Убрано только то, что попало на фото в исходно...  ...                             Захламление территории\n",
              "12  Прошу ликвидировать незаконно установленный ре...  ...         Незаконная установка рекламной конструкции\n",
              "13  Незаконные рекламные конструкции. Просьба прин...  ...         Незаконная установка рекламной конструкции\n",
              "14  Больше недели назад снесли павильон и до сих п...  ...                             Захламление территории\n",
              "15  Остатки строительного мусора вывезли не полнос...  ...                             Захламление территории\n",
              "16  Добрый день! У станции метро ботанический сад ...  ...                             Захламление территории\n",
              "17  Здравствуйте.\\\\nВ районе дома 23 по улице Снеж...  ...         Незаконная установка рекламной конструкции\n",
              "18  Здравствуйте.\\\\nНа заборе возле дома 23 по ули...  ...         Незаконная установка рекламной конструкции\n",
              "19         Рисунки, надписи на фасадах нежилых зданий  ...  Несанкционированные объявления, надписи и рису...\n",
              "\n",
              "[20 rows x 6 columns]"
            ]
          },
          "metadata": {
            "tags": []
          },
          "execution_count": 58
        }
      ]
    },
    {
      "cell_type": "code",
      "metadata": {
        "id": "mtkrEttdKzO9"
      },
      "source": [
        ""
      ],
      "execution_count": null,
      "outputs": []
    }
  ]
}